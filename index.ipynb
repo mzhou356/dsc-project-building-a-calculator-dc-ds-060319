{
 "cells": [
  {
   "cell_type": "markdown",
   "metadata": {},
   "source": [
    "# Project - Building a Calculator\n",
    "\n",
    "\n",
    "## Introduction \n",
    "\n",
    "In this project, you'll create a simple calculator which can perform basic arithmetic operations like addition, subtraction, multiplication or division depending upon the user input.\n",
    "\n",
    "## Objectives\n",
    "\n",
    "You will be able to:\n",
    "\n",
    "* Perform operations on various data types \n",
    "* Use loops to perform iteration \n",
    "* Use conditionals to make programming decisions\n",
    "* Define and use functions \n",
    "* Ingest and parse user input \n",
    "\n",
    "## Approach \n",
    "\n",
    "* User choose the desired operation. Options 1, 2, 3, 4 are valid options for operations.  \n",
    "* Two numbers are taken and an `if…elif…else` branching is used to execute a particular section.\n",
    "\n",
    "* Using functions `add()`, `subtract()`, `multiply()` and `divide()` evaluate respective operations.\n",
    "\n",
    "* The code should handle exceptions and must return **\"invalid input*** when an unexpected character is given in the input (anything other than 1 - 4).\n",
    "\n",
    "## Example Interface\n",
    "Here is the interface you are expected to build. Don't worry if it is not 100% exactly as what is shown. Focus more on the getting the logic correct at this stage. \n",
    "\n",
    "```\n",
    "Please select an operation:\n",
    "1. Add\n",
    "2. Subtract\n",
    "3. Multiply\n",
    "4. Divide\n",
    "\n",
    "Select operations form 1, 2, 3, 4 : 1\n",
    "Enter first number : 20\n",
    "Enter second number : 13\n",
    "20 + 13 = 33\n",
    "```\n",
    "\n",
    "## Creating Arithmetic Functions\n",
    "\n",
    "We'll create four functions, one for each arithmetic operation which will perform the required operation and return the resulting value as shown below:"
   ]
  },
  {
   "cell_type": "code",
   "execution_count": 1,
   "metadata": {},
   "outputs": [],
   "source": [
    "# Function to add two numbers \n",
    "def add(num1, num2):\n",
    "    #Perform the calculation\n",
    "    return num1+num2\n",
    "        "
   ]
  },
  {
   "cell_type": "code",
   "execution_count": 2,
   "metadata": {},
   "outputs": [],
   "source": [
    "# Function to subtract two numbers \n",
    "def subtract(num1, num2):\n",
    "    #Perform the calculation\n",
    "    return num1 - num2"
   ]
  },
  {
   "cell_type": "code",
   "execution_count": 3,
   "metadata": {},
   "outputs": [],
   "source": [
    "# Function to multiply two numbers\n",
    "def multiply(num1, num2):\n",
    "    #Perform the calculation\n",
    "    return num1*num2"
   ]
  },
  {
   "cell_type": "code",
   "execution_count": 4,
   "metadata": {},
   "outputs": [],
   "source": [
    "# Function to divide two numbers\n",
    "def divide(num1, num2):\n",
    "    #Perform the calculation\n",
    "    return num1/num2"
   ]
  },
  {
   "cell_type": "markdown",
   "metadata": {},
   "source": [
    "## Create a Command-line User Interface\n",
    "We'll now write the main program body to take user input and call the relevant function:"
   ]
  },
  {
   "cell_type": "code",
   "execution_count": 5,
   "metadata": {},
   "outputs": [],
   "source": [
    "def mod(num1,num2):\n",
    "    return num1%num2"
   ]
  },
  {
   "cell_type": "code",
   "execution_count": 9,
   "metadata": {},
   "outputs": [],
   "source": [
    "op_dict = {1:[add,'+'], 2:[subtract,'-'], \\\n",
    "           3:[multiply,'*'], 4:{'d':[divide,'/'],'m':[mod, '/']}}"
   ]
  },
  {
   "cell_type": "code",
   "execution_count": 8,
   "metadata": {},
   "outputs": [
    {
     "name": "stdout",
     "output_type": "stream",
     "text": [
      "Please select an operation:\n",
      " 1. Add\n",
      " 2. Subtract\n",
      " 3. Multiply\n",
      " 4. Divide\n",
      "\n",
      "Select operations from 1,2,3,4:1\n",
      "Enter first number:2\n",
      "Enter second number:4\n"
     ]
    },
    {
     "ename": "NameError",
     "evalue": "name 'op_dict' is not defined",
     "output_type": "error",
     "traceback": [
      "\u001b[0;31m\u001b[0m",
      "\u001b[0;31mNameError\u001b[0mTraceback (most recent call last)",
      "\u001b[0;32m<ipython-input-8-a831421d7565>\u001b[0m in \u001b[0;36m<module>\u001b[0;34m()\u001b[0m\n\u001b[1;32m     11\u001b[0m     \u001b[0mnum2\u001b[0m \u001b[0;34m=\u001b[0m \u001b[0mint\u001b[0m\u001b[0;34m(\u001b[0m\u001b[0minput\u001b[0m\u001b[0;34m(\u001b[0m\u001b[0;34m'Enter second number:'\u001b[0m\u001b[0;34m)\u001b[0m\u001b[0;34m)\u001b[0m\u001b[0;34m\u001b[0m\u001b[0m\n\u001b[1;32m     12\u001b[0m     \u001b[0;32mif\u001b[0m \u001b[0muser_input\u001b[0m \u001b[0;34m!=\u001b[0m \u001b[0;36m4\u001b[0m\u001b[0;34m:\u001b[0m\u001b[0;34m\u001b[0m\u001b[0m\n\u001b[0;32m---> 13\u001b[0;31m         \u001b[0mprint\u001b[0m\u001b[0;34m(\u001b[0m\u001b[0;34mf'{num1} {op_dict[user_input][1]} {num2} = {op_dict[user_input][0](num1,num2)}'\u001b[0m\u001b[0;34m)\u001b[0m\u001b[0;34m\u001b[0m\u001b[0m\n\u001b[0m\u001b[1;32m     14\u001b[0m     \u001b[0;32melse\u001b[0m\u001b[0;34m:\u001b[0m\u001b[0;34m\u001b[0m\u001b[0m\n\u001b[1;32m     15\u001b[0m         \u001b[0md_m\u001b[0m \u001b[0;34m=\u001b[0m \u001b[0mop_dict\u001b[0m\u001b[0;34m[\u001b[0m\u001b[0;36m4\u001b[0m\u001b[0;34m]\u001b[0m\u001b[0;34m\u001b[0m\u001b[0m\n",
      "\u001b[0;31mNameError\u001b[0m: name 'op_dict' is not defined"
     ]
    }
   ],
   "source": [
    "# Print user menu \n",
    "print ('Please select an operation:\\n','1. Add\\n','2. Subtract\\n',\\\n",
    "       '3. Multiply\\n','4. Divide\\n')\n",
    "\n",
    "\n",
    "# Take input from the user for operation , followed by numbers. \n",
    "user_input = int(input('Select operations from 1,2,3,4:'))\n",
    "if user_input not in [1,2,3,4]:\n",
    "    print('Invalid input')\n",
    "else:\n",
    "    num1 = int(input('Enter first number:'))\n",
    "    num2 = int(input('Enter second number:'))\n",
    "    if user_input != 4:\n",
    "        print(f'{num1} {op_dict[user_input][1]} {num2} = {op_dict[user_input][0](num1,num2)}')\n",
    "    else:\n",
    "        d_m = op_dict[4]\n",
    "        option_2 = input('Press d for division and m for modulo operation')\n",
    "        if option_2 == 'd':\n",
    "            print(f\"{num1} {d_m['d'][1]} {num2} = {d_m['d'][0](num1,num2)}\")\n",
    "        elif option_2 == 'm':\n",
    "            print(f\"{num1} {d_m['m'][1]} {num2} = {d_m['m'][0](num1,num2)}\")\n",
    "        else:\n",
    "            print('invalid input')        \n",
    "\n",
    "# Based on operation, pass the two numbers to respective function\n",
    "# Print the output in a nice manner\n",
    "# Print \"Invalid input\" if an unexpected character is seen in input           \n",
    "# Expected output\n",
    "# Please select operation -\n",
    "# 1. Add\n",
    "# 2. Subtract\n",
    "# 3. Multiply\n",
    "# 4. Divide\n",
    "\n",
    "# Select operations form 1, 2, 3, 4 :1\n",
    "# Enter first number: 2\n",
    "# Enter second number: 3\n",
    "# 2 + 3 = 5"
   ]
  },
  {
   "cell_type": "markdown",
   "metadata": {},
   "source": [
    "## Bring in the While loop\n",
    "\n",
    "We can see how the logic set by using if-else statements, along with functions can be used to control the flow of the program in an easy way. Let's add more functionality to our calculator as below:\n",
    "\n",
    ">Let's try to make it a bit more interesting by introducing the behaviour of a real calculator so our users can choose to either continue with calculations OR exit the system. Users gets this functionality by pressing `y` for yes and `n` for no towards continuation.\n",
    "\n",
    "## Example Interface\n",
    "\n",
    "**Notice `continue: y/n` at the bottom of interface.**\n",
    "\n",
    "```\n",
    "Please select an operation:\n",
    "1. Add\n",
    "2. Subtract\n",
    "3. Multiply\n",
    "4. Divide\n",
    "\n",
    "Select operations form 1, 2, 3, 4 : 1\n",
    "Enter first number : 20\n",
    "Enter second number : 13\n",
    "20 + 13 = 33\n",
    "\n",
    "Continue: y/n\n",
    "```\n",
    "\n",
    "Let's work towards implementing iteration into the equation and enclose above I/O interface inside a while loops."
   ]
  },
  {
   "cell_type": "code",
   "execution_count": 11,
   "metadata": {},
   "outputs": [
    {
     "name": "stdout",
     "output_type": "stream",
     "text": [
      "Please select an operation:\n",
      " 1. Add\n",
      " 2. Subtract\n",
      " 3. Multiply\n",
      " 4. Divide\n",
      "\n",
      "Select operations from 1,2,3,4:4\n",
      "Enter first number:5\n",
      "Enter second number:4\n",
      "Press d for division and m for modulo operationm\n",
      "5 / 4 = 1\n",
      "Continue? y/n:y\n",
      "Please select an operation:\n",
      " 1. Add\n",
      " 2. Subtract\n",
      " 3. Multiply\n",
      " 4. Divide\n",
      "\n",
      "Select operations from 1,2,3,4:4\n",
      "Enter first number:5\n",
      "Enter second number:4\n",
      "Press d for division and m for modulo operationd\n",
      "5 / 4 = 1.25\n",
      "Continue? y/n:n\n"
     ]
    }
   ],
   "source": [
    "# Initialize the code with cont (continue) flag set to yes (y)\n",
    "cont = 'y'\n",
    "while cont == 'y':\n",
    "    print ('Please select an operation:\\n','1. Add\\n','2. Subtract\\n',\\\n",
    "       '3. Multiply\\n','4. Divide\\n')\n",
    "    user_input = int(input('Select operations from 1,2,3,4:'))\n",
    "    if user_input not in [1,2,3,4]:\n",
    "        print('Invalid input')\n",
    "    else:\n",
    "        num1 = int(input('Enter first number:'))\n",
    "        num2 = int(input('Enter second number:'))\n",
    "        if user_input != 4:\n",
    "            print(f'{num1} {op_dict[user_input][1]} {num2} = {op_dict[user_input][0](num1,num2)}')\n",
    "        else:\n",
    "            d_m = op_dict[4]\n",
    "            option_2 = input('Press d for division and m for modulo operation')\n",
    "            if option_2 == 'd':\n",
    "                print(f\"{num1} {d_m['d'][1]} {num2} = {d_m['d'][0](num1,num2)}\")\n",
    "            elif option_2 == 'm':\n",
    "                print(f\"{num1} {d_m['m'][1]} {num2} = {d_m['m'][0](num1,num2)}\")\n",
    "            else:\n",
    "                print('invalid input')\n",
    "    cont = input('Continue? y/n:')\n",
    "\n",
    "\n",
    "\n",
    "# Check for user input after each iteration of the code in a while loop\n",
    "\n",
    "\n",
    "        # Enclose the I/O  code block inside the while loop\n",
    "        \n",
    "\n",
    "\n",
    "#Expected output format\n",
    "\n",
    "# Select operations form 1, 2, 3, 4 :4\n",
    "# Enter first number: 5\n",
    "# Enter second number: 4\n",
    "# Press d for division and m for modulo operatorm\n",
    "# 5 / 4 = 1\n",
    "# Continue? y/n:y\n",
    "# Select operations form 1, 2, 3, 4 :4\n",
    "# Enter first number: 5\n",
    "# Enter second number: 4\n",
    "# Press d for division and m for modulo operatord\n",
    "# 5 / 4 = 1.25"
   ]
  },
  {
   "cell_type": "markdown",
   "metadata": {},
   "source": [
    "## Level up (Optional)\n",
    "\n",
    "The while loop shown above allows the iteration through the code until a specific input from user i.e. `n` is noticed. Let's add some more functionality to this code by asking users about the type of division they are interested in, and this could be either normal division (as before) or a modulo operator (shows remainder).\n",
    "\n",
    ">Change the code in the division function so that if a user selects division operation, the code should ask the user if he/she wants a normal division `/` (int) or `//` (float) , or a module `%` operator which only returns the remainder of a division. The program should return an exception for any other inputs. "
   ]
  },
  {
   "cell_type": "code",
   "execution_count": 17,
   "metadata": {},
   "outputs": [
    {
     "name": "stdout",
     "output_type": "stream",
     "text": [
      "do you want d for / or f for // or m for modulem\n"
     ]
    },
    {
     "data": {
      "text/plain": [
       "1"
      ]
     },
     "execution_count": 17,
     "metadata": {},
     "output_type": "execute_result"
    }
   ],
   "source": [
    "def divide_v2(num1, num2):\n",
    "    #Perform the calculation\n",
    "    divide_dict = {'d': num1/num2, 'f': num1//num2, 'm': num1 % num2}\n",
    "    type = input('do you want d for / or f for // or m for module')\n",
    "    if type not in ['d','f','m']:\n",
    "        print('invalid input')\n",
    "    else:\n",
    "        return divide_dict[type]\n",
    "divide_v2(4,3)        "
   ]
  },
  {
   "cell_type": "markdown",
   "metadata": {},
   "source": [
    "## Summary\n",
    "\n",
    "In this lab we saw how loops and conditions can be used to control the logic of a program execution based on user input. We started with building a simple calculator and incrementally added more functionality to it by adding loops for iteration and further conditions allowing different type of calculations. We also practiced User I/O by taking choices from the users and dealing with exceptions (unexpected input). "
   ]
  }
 ],
 "metadata": {
  "kernelspec": {
   "display_name": "Python 3",
   "language": "python",
   "name": "python3"
  },
  "language_info": {
   "codemirror_mode": {
    "name": "ipython",
    "version": 3
   },
   "file_extension": ".py",
   "mimetype": "text/x-python",
   "name": "python",
   "nbconvert_exporter": "python",
   "pygments_lexer": "ipython3",
   "version": "3.6.6"
  }
 },
 "nbformat": 4,
 "nbformat_minor": 2
}
